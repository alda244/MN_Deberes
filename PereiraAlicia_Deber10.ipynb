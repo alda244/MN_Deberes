{
 "cells": [
  {
   "cell_type": "raw",
   "metadata": {
    "vscode": {
     "languageId": "raw"
    }
   },
   "source": [
    "---\n",
    "title: \"Métodos Numéricos - DEBER 10 -  Descomposición LU\"\n",
    "author: \"Alicia Pereira\"\n",
    "date: \"February 05, 2025\"\n",
    "lang: es\n",
    "format:\n",
    "  pdf:\n",
    "    code-overflow: wrap\n",
    "    number-sections: true\n",
    "    paginate: true\n",
    "    toc: true\n",
    "    links-color: blue\n",
    "    toc-title: \"Tabla de Contenidos\"  \n",
    "    tables: true\n",
    "    table-width: full\n",
    "    images-centered: true\n",
    "    code-block-theme: \"monokai\"\n",
    "execute:\n",
    "  echo: true\n",
    "  error: false\n",
    "  warning: false\n",
    "jupyter: python3\n",
    "---"
   ]
  },
  {
   "cell_type": "markdown",
   "metadata": {},
   "source": [
    "# Conjunto de Ejercicios - Descomposición LU\n"
   ]
  },
  {
   "cell_type": "markdown",
   "metadata": {},
   "source": [
    "## Primer Ejercicio"
   ]
  },
  {
   "cell_type": "markdown",
   "metadata": {},
   "source": [
    "1. **Realice las siguientes multiplicaciones matriz-matriz:**\n"
   ]
  },
  {
   "cell_type": "code",
   "execution_count": 2,
   "metadata": {},
   "outputs": [],
   "source": [
    "def matrixProduct(A, B):\n",
    "    n = len(A)\n",
    "    m = len(B[0])\n",
    "    p = len(B)\n",
    "    C = [[0 for i in range(m)] for j in range(n)]\n",
    "    for i in range(n):\n",
    "        for j in range(m):\n",
    "            for k in range(p):\n",
    "                C[i][j] += A[i][k] * B[k][j]\n",
    "    return C"
   ]
  },
  {
   "cell_type": "markdown",
   "metadata": {},
   "source": [
    "### a.\n",
    "$ \\begin{bmatrix}\n",
    "2 & -3  \\\\\n",
    "3 & -1 \n",
    " \\end{bmatrix}\n",
    "$\n",
    "$ \\begin{bmatrix}\n",
    "1 & 5  \\\\\n",
    "2 & 0 \n",
    " \\end{bmatrix}\n",
    "$\n",
    "\n"
   ]
  },
  {
   "cell_type": "code",
   "execution_count": 3,
   "metadata": {},
   "outputs": [
    {
     "name": "stdout",
     "output_type": "stream",
     "text": [
      "Resultado:  [[-4, 10], [1, 15]]\n"
     ]
    }
   ],
   "source": [
    "a_1 = [[2,-3],[3,-1]] \n",
    "a_2 = [[1,5],[2,0]]\n",
    "\n",
    "print(\"Resultado: \", matrixProduct(a_1, a_2))"
   ]
  },
  {
   "cell_type": "markdown",
   "metadata": {},
   "source": [
    "### b.\n",
    "$ \\begin{bmatrix}\n",
    "2 & -3  \\\\\n",
    "3 & -1 \n",
    " \\end{bmatrix}\n",
    "$\n",
    "$ \\begin{bmatrix}\n",
    "1 & 5  & -4\\\\\n",
    "-3 & 2 & 0\n",
    " \\end{bmatrix}\n",
    "$"
   ]
  },
  {
   "cell_type": "code",
   "execution_count": 4,
   "metadata": {},
   "outputs": [
    {
     "name": "stdout",
     "output_type": "stream",
     "text": [
      "Resultado:  [[11, 4, -8], [6, 13, -12]]\n"
     ]
    }
   ],
   "source": [
    "b_1 = [[2,-3],[3,-1]] \n",
    "b_2 = [[1,5,-4],[-3,2,0]]\n",
    "\n",
    "print(\"Resultado: \", matrixProduct(b_1, b_2))"
   ]
  },
  {
   "cell_type": "markdown",
   "metadata": {},
   "source": [
    "### c.\n",
    "$ \\begin{bmatrix}\n",
    "2 & -3 & 1 \\\\\n",
    "4 & 3 &  0 \\\\\n",
    "5 & 2 & -4 \n",
    " \\end{bmatrix}\n",
    "$\n",
    "$ \\begin{bmatrix}\n",
    "0 & 1 & -2\\\\\n",
    "1 & 0 & -1\\\\\n",
    "2 & 3 & -2\n",
    " \\end{bmatrix}\n",
    "$\n",
    "\n"
   ]
  },
  {
   "cell_type": "code",
   "execution_count": 5,
   "metadata": {},
   "outputs": [
    {
     "name": "stdout",
     "output_type": "stream",
     "text": [
      "Resultado:  [[-1, 5, -3], [3, 4, -11], [-6, -7, -4]]\n"
     ]
    }
   ],
   "source": [
    "c_1 = [[2,-3,1],[4,3,0],[5,2,-4]] \n",
    "c_2 = [[0,1,-2],[1,0,-1],[2,3,-2]]\n",
    "\n",
    "print(\"Resultado: \", matrixProduct(c_1, c_2))"
   ]
  },
  {
   "cell_type": "markdown",
   "metadata": {},
   "source": [
    "### d.\n",
    "$ \\begin{bmatrix}\n",
    "2 & 1 & 2 \\\\\n",
    "-2 & 3 &  0 \\\\\n",
    "2 & -1 & 3 \n",
    " \\end{bmatrix}\n",
    "$\n",
    "$ \\begin{bmatrix}\n",
    "1 & -2\\\\\n",
    "-4 & 1\\\\\n",
    "0 & 2\n",
    " \\end{bmatrix}\n",
    "$\n",
    "\n"
   ]
  },
  {
   "cell_type": "code",
   "execution_count": 6,
   "metadata": {},
   "outputs": [
    {
     "name": "stdout",
     "output_type": "stream",
     "text": [
      "Resultado:  [[-2, 1], [-14, 7], [6, 1]]\n"
     ]
    }
   ],
   "source": [
    "d_1 = [[2,1,2],[-2,3,0],[2,-1,3]]\n",
    "d_2 = [[1,-2],[-4,1],[0,2]]\n",
    "\n",
    "print(\"Resultado: \", matrixProduct(d_1, d_2))"
   ]
  },
  {
   "cell_type": "markdown",
   "metadata": {},
   "source": [
    "## Segundo Ejercicio"
   ]
  },
  {
   "cell_type": "markdown",
   "metadata": {},
   "source": [
    "2. **Determine cuáles de las siguientes matrices son no singulares y calcule la inversa de esas matrices:**"
   ]
  },
  {
   "cell_type": "markdown",
   "metadata": {},
   "source": [
    "_Definir función para calcular el determinante._"
   ]
  },
  {
   "cell_type": "code",
   "execution_count": 7,
   "metadata": {},
   "outputs": [
    {
     "name": "stdout",
     "output_type": "stream",
     "text": [
      "[02-05 21:34:47][INFO] 2025-02-05 21:34:47.006491\n",
      "[02-05 21:34:47][INFO] 2025-02-05 21:34:47.195363\n",
      "[02-05 21:34:47][INFO] 2025-02-05 21:34:47.198294\n"
     ]
    }
   ],
   "source": [
    "from src.linear_sist_methods import descomposicion_LU\n",
    "import numpy as np\n",
    "\n",
    "def calcular_determinante_con_LU(A: np.ndarray) -> float:\n",
    "    \"\"\"\n",
    "    Calcula el determinante de una matriz cuadrada utilizando descomposición LU.\n",
    "\n",
    "    ## Parameters\n",
    "    ``A``: matriz cuadrada.\n",
    "\n",
    "    ## Return\n",
    "    ``det``: determinante de la matriz.\n",
    "    \"\"\"\n",
    "    if not isinstance(A, np.ndarray):\n",
    "        A = np.array(A, dtype=float)\n",
    "\n",
    "    assert A.shape[0] == A.shape[1], \"La matriz A debe ser cuadrada.\"\n",
    "    try:\n",
    "        L, U = descomposicion_LU(A)\n",
    "        det = np.prod(np.diag(U))  # Producto de los elementos de la diagonal de U\n",
    "    \n",
    "    except ValueError: \n",
    "        det = 0\n",
    "        \n",
    "    return det"
   ]
  },
  {
   "cell_type": "markdown",
   "metadata": {},
   "source": [
    "_Definir función para calcular la matriz adjunta._"
   ]
  },
  {
   "cell_type": "code",
   "execution_count": 8,
   "metadata": {},
   "outputs": [],
   "source": [
    "import numpy as np\n",
    "\n",
    "def get_cofactor(matrix, i, j):\n",
    "    minor = np.delete(np.delete(matrix, i, axis=0), j, axis=1)\n",
    "    return ((-1) ** (i + j)) * np.linalg.det(minor)\n",
    "\n",
    "def adjunta(matrix):\n",
    "    n = matrix.shape[0]\n",
    "    adj = np.zeros((n, n))\n",
    "    for i in range(n):\n",
    "        for j in range(n):\n",
    "            adj[j, i] = get_cofactor(matrix, i, j)\n",
    "    return adj"
   ]
  },
  {
   "cell_type": "markdown",
   "metadata": {},
   "source": [
    "_Definir función para calcular inversa._"
   ]
  },
  {
   "cell_type": "code",
   "execution_count": 9,
   "metadata": {},
   "outputs": [],
   "source": [
    "def calcular_inversa(matrix):\n",
    "    det = np.linalg.det(matrix)\n",
    "    if det == 0:\n",
    "        raise ValueError(\"La matriz no tiene inversa porque su determinante es 0.\")\n",
    "    \n",
    "    adj = adjunta(matrix)\n",
    "    inv = adj / det\n",
    "    return inv"
   ]
  },
  {
   "cell_type": "markdown",
   "metadata": {},
   "source": [
    "### a.\n",
    "$ \\begin{bmatrix}\n",
    "4 & 2 & 6 \\\\\n",
    "3 & 0 & 7 \\\\\n",
    "-2 & -1 & -3 \n",
    " \\end{bmatrix}\n",
    "$\n",
    "\n"
   ]
  },
  {
   "cell_type": "code",
   "execution_count": 10,
   "metadata": {},
   "outputs": [
    {
     "name": "stdout",
     "output_type": "stream",
     "text": [
      "[02-05 21:34:47][INFO] \n",
      "[[ 4.   2.   6. ]\n",
      " [ 0.  -1.5  2.5]\n",
      " [ 0.   0.   0. ]]\n",
      "[02-05 21:34:47][INFO] \n",
      "[[ 4.   2.   6. ]\n",
      " [ 0.  -1.5  2.5]\n",
      " [ 0.   0.   0. ]]\n",
      "\n",
      " Determinante:  0\n",
      "La matriz no tiene inversa\n"
     ]
    }
   ],
   "source": [
    "a_3 = np.array([[4, 2, 6], [3, 0,7], [-2, -1, -3]])\n",
    "determinante = calcular_determinante_con_LU(a_3)\n",
    "print(\"\\n\",\"Determinante: \", determinante)\n",
    "if determinante != 0:\n",
    "    print(\"Inversa: \", calcular_inversa(a_3))\n",
    "else:\n",
    "    print(\"La matriz no tiene inversa\")"
   ]
  },
  {
   "cell_type": "markdown",
   "metadata": {},
   "source": [
    "### b.\n",
    "$ \\begin{bmatrix}\n",
    "1 & 2 & 0 \\\\\n",
    "2 & 1 & -1 \\\\\n",
    "3 & 1 & 1 \n",
    " \\end{bmatrix}\n",
    "$\n"
   ]
  },
  {
   "cell_type": "code",
   "execution_count": 11,
   "metadata": {},
   "outputs": [
    {
     "name": "stdout",
     "output_type": "stream",
     "text": [
      "[02-05 21:34:47][INFO] \n",
      "[[ 2.   1.   1. ]\n",
      " [ 0.   1.5  2.5]\n",
      " [ 0.  -1.   1. ]]\n",
      "[02-05 21:34:47][INFO] \n",
      "[[2.         1.         1.        ]\n",
      " [0.         1.5        2.5       ]\n",
      " [0.         0.         2.66666667]]\n",
      "[02-05 21:34:47][INFO] \n",
      "[[2.         1.         1.        ]\n",
      " [0.         1.5        2.5       ]\n",
      " [0.         0.         2.66666667]]\n",
      "\n",
      " Determinante:  8.0\n",
      "Inversa: \n",
      " [[-0.25   0.625  0.125]\n",
      " [ 0.25  -0.125 -0.625]\n",
      " [ 0.25  -0.125  0.375]]\n"
     ]
    }
   ],
   "source": [
    "b_3 = np.array([[1, 2, 3], [2, 1,1], [0, -1, 1]])\n",
    "determinante = calcular_determinante_con_LU(b_3)\n",
    "print(\"\\n\",\"Determinante: \", determinante)\n",
    "if determinante != 0:\n",
    "    print(\"Inversa: \\n\", calcular_inversa(b_3))\n",
    "else:\n",
    "    print(\"La matriz no tiene inversa\")"
   ]
  },
  {
   "cell_type": "markdown",
   "metadata": {},
   "source": [
    "### c.\n",
    "$ \\begin{bmatrix}\n",
    "1 & 1 & -1 & 1\\\\\n",
    "1 & 2 & -4 & -2\\\\\n",
    "2 & 1 & 1 & 5\\\\\n",
    "-1 & 0 & -2 & -4\n",
    " \\end{bmatrix}\n",
    "$\n"
   ]
  },
  {
   "cell_type": "code",
   "execution_count": 12,
   "metadata": {},
   "outputs": [
    {
     "name": "stdout",
     "output_type": "stream",
     "text": [
      "[02-05 21:34:47][INFO] \n",
      "[[ 2.   1.   1.   5. ]\n",
      " [ 0.   1.5 -4.5 -4.5]\n",
      " [ 0.   0.5 -1.5 -1.5]\n",
      " [ 0.   0.5 -1.5 -1.5]]\n",
      "[02-05 21:34:47][INFO] \n",
      "[[ 2.   1.   1.   5. ]\n",
      " [ 0.   1.5 -4.5 -4.5]\n",
      " [ 0.   0.   0.   0. ]\n",
      " [ 0.   0.   0.   0. ]]\n",
      "\n",
      " Determinante:  0\n",
      "La matriz no tiene inversa\n"
     ]
    }
   ],
   "source": [
    "c_3 = np.array([[1, 1, -1, 1], [1, 2, -4,-2],[2,1,1,5] ,[-1,0, -2, -4]])\n",
    "determinante = calcular_determinante_con_LU(c_3)\n",
    "print(\"\\n\",\"Determinante: \", determinante)\n",
    "if determinante != 0:\n",
    "    print(\"Inversa: \\n\", calcular_inversa(c_3))\n",
    "else:\n",
    "    print(\"La matriz no tiene inversa\")"
   ]
  },
  {
   "cell_type": "markdown",
   "metadata": {},
   "source": [
    "### d.\n",
    "$ \\begin{bmatrix}\n",
    "4 & 0 & 0 & 0\\\\\n",
    "6 & 7 & 0 & 0\\\\\n",
    "9 & 11 & 1 & 0\\\\\n",
    "5 & 4 & 1 & 1\n",
    " \\end{bmatrix}\n",
    "$\n"
   ]
  },
  {
   "cell_type": "code",
   "execution_count": 13,
   "metadata": {},
   "outputs": [
    {
     "name": "stdout",
     "output_type": "stream",
     "text": [
      "[02-05 21:34:47][INFO] \n",
      "[[ 9.         11.          1.          0.        ]\n",
      " [ 0.         -0.33333333 -0.66666667  0.        ]\n",
      " [ 0.         -4.88888889 -0.44444444  0.        ]\n",
      " [ 0.         -2.11111111  0.44444444  1.        ]]\n",
      "[02-05 21:34:47][INFO] \n",
      "[[ 9.00000000e+00  1.10000000e+01  1.00000000e+00  0.00000000e+00]\n",
      " [ 0.00000000e+00 -4.88888889e+00 -4.44444444e-01  0.00000000e+00]\n",
      " [ 0.00000000e+00 -5.55111512e-17 -6.36363636e-01  0.00000000e+00]\n",
      " [ 0.00000000e+00  0.00000000e+00  6.36363636e-01  1.00000000e+00]]\n",
      "[02-05 21:34:47][INFO] \n",
      "[[ 9.00000000e+00  1.10000000e+01  1.00000000e+00  0.00000000e+00]\n",
      " [ 0.00000000e+00 -4.88888889e+00 -4.44444444e-01  0.00000000e+00]\n",
      " [ 0.00000000e+00  0.00000000e+00  6.36363636e-01  1.00000000e+00]\n",
      " [ 0.00000000e+00 -5.55111512e-17  0.00000000e+00  1.00000000e+00]]\n",
      "[02-05 21:34:47][INFO] \n",
      "[[ 9.00000000e+00  1.10000000e+01  1.00000000e+00  0.00000000e+00]\n",
      " [ 0.00000000e+00 -4.88888889e+00 -4.44444444e-01  0.00000000e+00]\n",
      " [ 0.00000000e+00  0.00000000e+00  6.36363636e-01  1.00000000e+00]\n",
      " [ 0.00000000e+00 -5.55111512e-17  0.00000000e+00  1.00000000e+00]]\n",
      "\n",
      " Determinante:  -27.999999999999993\n",
      "Inversa: \n",
      " [[ 0.25       -0.          0.         -0.        ]\n",
      " [-0.21428571  0.14285714 -0.          0.        ]\n",
      " [ 0.10714286 -1.57142857  1.         -0.        ]\n",
      " [-0.5         1.         -1.          1.        ]]\n"
     ]
    }
   ],
   "source": [
    "d_3 = np.array([[4, 0, 0, 0], [6, 7, 0,0],[9,11,1,0] ,[5,4,1,1]])\n",
    "determinante = calcular_determinante_con_LU(d_3)\n",
    "print(\"\\n\",\"Determinante: \", determinante)\n",
    "if determinante != 0:\n",
    "    print(\"Inversa: \\n\", calcular_inversa(d_3))\n",
    "else:\n",
    "    print(\"La matriz no tiene inversa\")"
   ]
  },
  {
   "cell_type": "markdown",
   "metadata": {},
   "source": [
    "## Tercer Ejercicio"
   ]
  },
  {
   "cell_type": "markdown",
   "metadata": {},
   "source": [
    "3. **Resuelva los sistemas lineales 4 x 4 que tienen la misma matriz de coeficientes:**"
   ]
  },
  {
   "cell_type": "markdown",
   "metadata": {},
   "source": [
    "### a.\n",
    "$$\n",
    "\\begin{aligned}\n",
    "x_1 - x_2 + 2x_3 - x_4 &= 6, \\\\\n",
    "x_1 - x_3 + x_4 &= 4, \\\\\n",
    "2x_1 + x_2 + 3x_3 - 4x_4 &= -2, \\\\\n",
    "-x_2 + x_3 - x_4 &= 5.\n",
    "\\end{aligned}\n",
    "$$"
   ]
  },
  {
   "cell_type": "code",
   "execution_count": 14,
   "metadata": {},
   "outputs": [],
   "source": [
    "from src.linear_sist_methods import resolver_LU"
   ]
  },
  {
   "cell_type": "code",
   "execution_count": 15,
   "metadata": {},
   "outputs": [
    {
     "name": "stdout",
     "output_type": "stream",
     "text": [
      "[02-05 21:34:47][INFO] \n",
      "[[ 2.   1.   3.  -4. ]\n",
      " [ 0.  -0.5 -2.5  3. ]\n",
      " [ 0.  -1.5  0.5  1. ]\n",
      " [ 0.  -1.   1.  -1. ]]\n",
      "[02-05 21:34:47][INFO] \n",
      "[[ 2.          1.          3.         -4.        ]\n",
      " [ 0.         -1.5         0.5         1.        ]\n",
      " [ 0.          0.         -2.66666667  2.66666667]\n",
      " [ 0.          0.          0.66666667 -1.66666667]]\n",
      "[02-05 21:34:47][INFO] \n",
      "[[ 2.          1.          3.         -4.        ]\n",
      " [ 0.         -1.5         0.5         1.        ]\n",
      " [ 0.          0.         -2.66666667  2.66666667]\n",
      " [ 0.          0.          0.         -1.        ]]\n",
      "[02-05 21:34:47][INFO] \n",
      "[[ 2.          1.          3.         -4.        ]\n",
      " [ 0.         -1.5         0.5         1.        ]\n",
      " [ 0.          0.         -2.66666667  2.66666667]\n",
      " [ 0.          0.          0.         -1.        ]]\n",
      "\n",
      " \n",
      "L:\n",
      " [[ 1.          0.          0.          0.        ]\n",
      " [ 0.5         1.          0.          0.        ]\n",
      " [ 0.5         0.33333333  1.          0.        ]\n",
      " [ 0.          0.66666667 -0.25        1.        ]]\n",
      "\n",
      " \n",
      "U:\n",
      " [[ 2.          1.          3.         -4.        ]\n",
      " [ 0.         -1.5         0.5         1.        ]\n",
      " [ 0.          0.         -2.66666667  2.66666667]\n",
      " [ 0.          0.          0.         -1.        ]]\n",
      "[02-05 21:34:47][INFO] Sustitución hacia adelante\n",
      "[02-05 21:34:47][INFO] y = \n",
      "[[ 6.        ]\n",
      " [ 1.        ]\n",
      " [-5.33333333]\n",
      " [ 3.        ]]\n",
      "[02-05 21:34:47][INFO] Sustitución hacia atrás\n",
      "[02-05 21:34:47][INFO] i = 2\n",
      "[02-05 21:34:47][INFO] suma = [-8.]\n",
      "[02-05 21:34:47][INFO] U[i, i] = -2.6666666666666665\n",
      "[02-05 21:34:47][INFO] y[i] = [-5.33333333]\n",
      "[02-05 21:34:47][INFO] i = 1\n",
      "[02-05 21:34:47][INFO] suma = [-3.5]\n",
      "[02-05 21:34:47][INFO] U[i, i] = -1.5\n",
      "[02-05 21:34:47][INFO] y[i] = [1.]\n",
      "[02-05 21:34:47][INFO] i = 0\n",
      "[02-05 21:34:47][INFO] suma = [6.]\n",
      "[02-05 21:34:47][INFO] U[i, i] = 2.0\n",
      "[02-05 21:34:47][INFO] y[i] = [6.]\n",
      "\n",
      " \n",
      "Resolución:\n",
      " [[-1.33226763e-15]\n",
      " [-3.00000000e+00]\n",
      " [-1.00000000e+00]\n",
      " [-3.00000000e+00]]\n"
     ]
    }
   ],
   "source": [
    "a_4 = np.array([[1,-1,2,-1],[1,0,-1,1],[2,1,3,-4],[0,-1,1,-1]])\n",
    "L,U = descomposicion_LU(a_4)\n",
    "print(\"\\n \\nL:\\n\" , L)\n",
    "print(\"\\n \\nU:\\n\" , U)\n",
    "print(\"\\n \\nResolución:\\n\", resolver_LU(L,U,[6,4,-2,5]))"
   ]
  },
  {
   "cell_type": "markdown",
   "metadata": {},
   "source": [
    "$$\n",
    "\\begin{aligned}\n",
    "x_1 - x_2 + 2x_3 - x_4 &= 1, \\\\\n",
    "x_1 - x_3 + x_4 &= 1, \\\\\n",
    "2x_1 + x_2 + 3x_3 - 4x_4 &= 2, \\\\\n",
    "-x_2 + x_3 - x_4 &= -1.\n",
    "\\end{aligned}\n",
    "$$"
   ]
  },
  {
   "cell_type": "code",
   "execution_count": 16,
   "metadata": {},
   "outputs": [
    {
     "name": "stdout",
     "output_type": "stream",
     "text": [
      "[02-05 21:34:47][INFO] \n",
      "[[ 2.   1.   3.  -4. ]\n",
      " [ 0.  -0.5 -2.5  3. ]\n",
      " [ 0.  -1.5  0.5  1. ]\n",
      " [ 0.  -1.   1.  -1. ]]\n",
      "[02-05 21:34:47][INFO] \n",
      "[[ 2.          1.          3.         -4.        ]\n",
      " [ 0.         -1.5         0.5         1.        ]\n",
      " [ 0.          0.         -2.66666667  2.66666667]\n",
      " [ 0.          0.          0.66666667 -1.66666667]]\n",
      "[02-05 21:34:47][INFO] \n",
      "[[ 2.          1.          3.         -4.        ]\n",
      " [ 0.         -1.5         0.5         1.        ]\n",
      " [ 0.          0.         -2.66666667  2.66666667]\n",
      " [ 0.          0.          0.         -1.        ]]\n",
      "[02-05 21:34:47][INFO] \n",
      "[[ 2.          1.          3.         -4.        ]\n",
      " [ 0.         -1.5         0.5         1.        ]\n",
      " [ 0.          0.         -2.66666667  2.66666667]\n",
      " [ 0.          0.          0.         -1.        ]]\n",
      "\n",
      " \n",
      "L:\n",
      " [[ 1.          0.          0.          0.        ]\n",
      " [ 0.5         1.          0.          0.        ]\n",
      " [ 0.5         0.33333333  1.          0.        ]\n",
      " [ 0.          0.66666667 -0.25        1.        ]]\n",
      "\n",
      " \n",
      "U:\n",
      " [[ 2.          1.          3.         -4.        ]\n",
      " [ 0.         -1.5         0.5         1.        ]\n",
      " [ 0.          0.         -2.66666667  2.66666667]\n",
      " [ 0.          0.          0.         -1.        ]]\n",
      "[02-05 21:34:47][INFO] Sustitución hacia adelante\n",
      "[02-05 21:34:47][INFO] y = \n",
      "[[ 1.        ]\n",
      " [ 0.5       ]\n",
      " [ 1.33333333]\n",
      " [-1.        ]]\n",
      "[02-05 21:34:47][INFO] Sustitución hacia atrás\n",
      "[02-05 21:34:47][INFO] i = 2\n",
      "[02-05 21:34:47][INFO] suma = [2.66666667]\n",
      "[02-05 21:34:47][INFO] U[i, i] = -2.6666666666666665\n",
      "[02-05 21:34:47][INFO] y[i] = [1.33333333]\n",
      "[02-05 21:34:47][INFO] i = 1\n",
      "[02-05 21:34:47][INFO] suma = [1.25]\n",
      "[02-05 21:34:47][INFO] U[i, i] = -1.5\n",
      "[02-05 21:34:47][INFO] y[i] = [0.5]\n",
      "[02-05 21:34:47][INFO] i = 0\n",
      "[02-05 21:34:47][INFO] suma = [-2.]\n",
      "[02-05 21:34:47][INFO] U[i, i] = 2.0\n",
      "[02-05 21:34:47][INFO] y[i] = [1.]\n",
      "\n",
      " \n",
      "Resolución:\n",
      " [[1.5]\n",
      " [0.5]\n",
      " [0.5]\n",
      " [1. ]]\n"
     ]
    }
   ],
   "source": [
    "L,U = descomposicion_LU(a_4)\n",
    "print(\"\\n \\nL:\\n\" , L)\n",
    "print(\"\\n \\nU:\\n\" , U)\n",
    "print(\"\\n \\nResolución:\\n\", resolver_LU(L,U,[1,1,2,-1]))"
   ]
  },
  {
   "cell_type": "markdown",
   "metadata": {},
   "source": [
    "## Cuarto Ejercicio"
   ]
  },
  {
   "cell_type": "markdown",
   "metadata": {},
   "source": [
    "4. **Encuentre los valores de A que hacen que la siguiente matriz sea singular.**"
   ]
  },
  {
   "cell_type": "markdown",
   "metadata": {},
   "source": [
    "$$\n",
    "A = \\begin{bmatrix}\n",
    "1 & -1 & \\alpha \\\\\n",
    "2 & 2 & 1 \\\\\n",
    "0 & \\alpha & -\\frac{3}{2}\n",
    "\\end{bmatrix}\n",
    "$$\n"
   ]
  },
  {
   "cell_type": "markdown",
   "metadata": {},
   "source": [
    "_Para saber si la matriz es singular es necesario calcular su determinante, en caso de que este sea igual a cero, la matriz será singular._"
   ]
  },
  {
   "cell_type": "markdown",
   "metadata": {},
   "source": [
    "- En primer lugar, se realiza cero hacia abajo en la primera columna usando operaciones entre filas para facilitar el cálculo del determinante."
   ]
  },
  {
   "cell_type": "markdown",
   "metadata": {},
   "source": [
    "$$\n",
    "F2-2*F1 \\rightarrow F2\n",
    "$$\n",
    "\n",
    "$$\n",
    "\\equiv\n",
    "A = \\begin{bmatrix}\n",
    "1 & -1 & \\alpha \\\\\n",
    "0 & 4 & 1 - 2 \\alpha \\\\\n",
    "0 & \\alpha & -\\frac{3}{2}\n",
    "\\end{bmatrix}\n",
    "$$"
   ]
  },
  {
   "cell_type": "markdown",
   "metadata": {},
   "source": [
    "- Ahora es posible calcular el determinante utilizando el método del _menor de una matriz_."
   ]
  },
  {
   "cell_type": "markdown",
   "metadata": {},
   "source": [
    "$$\n",
    "\\det(A) = 1 \\cdot \\begin{vmatrix} \n",
    "4 & -2\\alpha + 1 \\\\ \n",
    "\\alpha & -\\frac{3}{2} \n",
    "\\end{vmatrix}\n",
    "$$\n",
    "\n",
    "- Desarrollo del determinante de la submatriz\n",
    "\n",
    "$$\n",
    "\\begin{vmatrix} \n",
    "4 & -2\\alpha + 1 \\\\ \n",
    "\\alpha & -\\frac{3}{2} \n",
    "\\end{vmatrix}\n",
    "= (4)(-\\frac{3}{2}) - (-2\\alpha + 1)(\\alpha)\n",
    "$$\n",
    "\n",
    "$$\n",
    "= -6 - (-2\\alpha^2 + \\alpha)\n",
    "$$\n",
    "\n",
    "$$\n",
    "= -6 + 2\\alpha^2 - \\alpha\n",
    "$$\n",
    "\n",
    "- Sustitución en la ecuación del determinante\n",
    "\n",
    "$$\n",
    "\\det(A) = 1 \\cdot (2\\alpha^2 - \\alpha - 6)\n",
    "$$\n",
    "\n",
    "Por lo tanto, el determinante de \\( A \\) es:\n",
    "\n",
    "$$\n",
    "\\det(A) = 2\\alpha^2 - \\alpha - 6\n",
    "$$\n",
    "\n",
    "\n",
    "- Determinación de singularidad\n",
    "\n",
    "Para que \\( A \\) sea singular:\n",
    "\n",
    "$$\n",
    "2\\alpha^2 - \\alpha - 6 = 0\n",
    "$$\n",
    "\n",
    "- Factorizando los términos y resolviendo la ecuación:\n",
    "\n",
    "$$\n",
    "(2\\alpha - 4)(\\alpha + \\frac{3}{2}) = 0\n",
    "$$\n",
    "\n",
    "$$\n",
    "\\alpha_1 = 2, \\quad \\alpha_2 = -\\frac{3}{2}\n",
    "$$"
   ]
  },
  {
   "cell_type": "markdown",
   "metadata": {},
   "source": [
    "## Quinto Ejercicio"
   ]
  },
  {
   "cell_type": "markdown",
   "metadata": {},
   "source": [
    "5. **Resuelva los siguientes sistemas lineales:**"
   ]
  },
  {
   "cell_type": "markdown",
   "metadata": {},
   "source": [
    "### a.\n",
    "$$\n",
    "\\begin{bmatrix}\n",
    "1 & 0 & 0 \\\\\n",
    "2 & 1 & 0 \\\\\n",
    "-1 & 0 & 1\n",
    "\\end{bmatrix}\n",
    "\\begin{bmatrix}\n",
    "2 & 3 & -1 \\\\\n",
    "0 & -2 & 1 \\\\\n",
    "0 & 0 & 3\n",
    "\\end{bmatrix}\n",
    "\\begin{bmatrix}\n",
    "x_1 \\\\\n",
    "x_2 \\\\\n",
    "x_3\n",
    "\\end{bmatrix}\n",
    "=\n",
    "\\begin{bmatrix}\n",
    "2 \\\\\n",
    "-1 \\\\\n",
    "1\n",
    "\\end{bmatrix}\n",
    "$$\n"
   ]
  },
  {
   "cell_type": "code",
   "execution_count": 28,
   "metadata": {},
   "outputs": [
    {
     "name": "stdout",
     "output_type": "stream",
     "text": [
      "[02-05 21:34:55][INFO] Sustitución hacia adelante\n",
      "[02-05 21:34:55][INFO] y = \n",
      "[[ 2.]\n",
      " [-5.]\n",
      " [ 3.]]\n",
      "[02-05 21:34:55][INFO] Sustitución hacia atrás\n",
      "[02-05 21:34:55][INFO] i = 1\n",
      "[02-05 21:34:55][INFO] suma = [1.]\n",
      "[02-05 21:34:55][INFO] U[i, i] = -2\n",
      "[02-05 21:34:55][INFO] y[i] = [-5.]\n",
      "[02-05 21:34:55][INFO] i = 0\n",
      "[02-05 21:34:55][INFO] suma = [8.]\n",
      "[02-05 21:34:55][INFO] U[i, i] = 2\n",
      "[02-05 21:34:55][INFO] y[i] = [2.]\n",
      "\n",
      " \n",
      "Resolución:\n",
      " [[-3.]\n",
      " [ 3.]\n",
      " [ 1.]]\n"
     ]
    }
   ],
   "source": [
    "L = np.array(\n",
    "    [[1, 0, 0],\n",
    "     [2, 1, 0],\n",
    "     [-1, 0, 1]]\n",
    ")\n",
    "\n",
    "U = np.array(\n",
    "    [[2, 3, -1],\n",
    "     [0, -2, 1],\n",
    "     [0, 0, 3]]\n",
    ")\n",
    "\n",
    "print(\"\\n \\nResolución:\\n\", resolver_LU(L,U,[2,-1,1]))"
   ]
  },
  {
   "cell_type": "markdown",
   "metadata": {},
   "source": [
    "### b.\n",
    "$$\n",
    "\\begin{bmatrix}\n",
    "2 & 0 & 0 \\\\\n",
    "-1 & 1 & 0 \\\\\n",
    "3 & 2 & -1\n",
    "\\end{bmatrix}\n",
    "\\begin{bmatrix}\n",
    "1 & 1 & 1 \\\\\n",
    "0 & 1 & 2 \\\\\n",
    "0 & 0 & 1\n",
    "\\end{bmatrix}\n",
    "\\begin{bmatrix}\n",
    "x_1 \\\\\n",
    "x_2 \\\\\n",
    "x_3\n",
    "\\end{bmatrix}\n",
    "=\n",
    "\\begin{bmatrix}\n",
    "-1 \\\\\n",
    "3 \\\\\n",
    "0\n",
    "\\end{bmatrix}\n",
    "$$"
   ]
  },
  {
   "cell_type": "code",
   "execution_count": 30,
   "metadata": {},
   "outputs": [
    {
     "name": "stdout",
     "output_type": "stream",
     "text": [
      "[02-05 21:36:10][INFO] Sustitución hacia adelante\n",
      "[02-05 21:36:10][INFO] y = \n",
      "[[-0.5]\n",
      " [ 2.5]\n",
      " [ 3.5]]\n",
      "[02-05 21:36:10][INFO] Sustitución hacia atrás\n",
      "[02-05 21:36:10][INFO] i = 1\n",
      "[02-05 21:36:10][INFO] suma = [7.]\n",
      "[02-05 21:36:10][INFO] U[i, i] = 1\n",
      "[02-05 21:36:10][INFO] y[i] = [2.5]\n",
      "[02-05 21:36:10][INFO] i = 0\n",
      "[02-05 21:36:10][INFO] suma = [-1.]\n",
      "[02-05 21:36:10][INFO] U[i, i] = 1\n",
      "[02-05 21:36:10][INFO] y[i] = [-0.5]\n",
      "\n",
      " \n",
      "Resolución:\n",
      " [[ 0.5]\n",
      " [-4.5]\n",
      " [ 3.5]]\n"
     ]
    }
   ],
   "source": [
    "L2 = np.array(\n",
    "    [[2, 0, 0],\n",
    "     [-1, 1, 0],\n",
    "     [3, 2, -1]]\n",
    ")\n",
    "\n",
    "U2 = np.array(\n",
    "    [[1, 1, 1],\n",
    "     [0, 1, 2],\n",
    "     [0, 0, 1]]\n",
    ")\n",
    "\n",
    "print(\"\\n \\nResolución:\\n\", resolver_LU(L2,U2,[-1,3,0]))"
   ]
  },
  {
   "cell_type": "markdown",
   "metadata": {},
   "source": [
    "## Sexto Ejercicio"
   ]
  },
  {
   "cell_type": "markdown",
   "metadata": {},
   "source": [
    "6. **Factorice las siguientes matrices en la descomposición LU mediante el algoritmo de factorización LU con $l_{ii}$ = 1 para todas las $i$**. "
   ]
  },
  {
   "cell_type": "code",
   "execution_count": 18,
   "metadata": {},
   "outputs": [],
   "source": [
    "def lu_decomposition(A):\n",
    "    \"\"\"\n",
    "    Realiza la descomposición LU de la matriz A utilizando el algoritmo de Doolittle.\n",
    "    La matriz L tendrá 1s en la diagonal principal.\n",
    "    \n",
    "    Parameters:\n",
    "    A (np.ndarray): Matriz cuadrada a descomponer.\n",
    "    \n",
    "    Returns:\n",
    "    L (np.ndarray): Matriz triangular inferior con 1s en la diagonal principal.\n",
    "    U (np.ndarray): Matriz triangular superior.\n",
    "    \"\"\"\n",
    "    n = A.shape[0]\n",
    "    L = np.eye(n)  # Matriz identidad de tamaño n\n",
    "    U = np.zeros((n, n))\n",
    "    \n",
    "    for i in range(n):\n",
    "        for j in range(i, n):\n",
    "            U[i, j] = A[i, j] - sum(L[i, k] * U[k, j] for k in range(i))\n",
    "        \n",
    "        for j in range(i + 1, n):\n",
    "            L[j, i] = (A[j, i] - sum(L[j, k] * U[k, i] for k in range(i))) / U[i, i]\n",
    "    \n",
    "    return L, U"
   ]
  },
  {
   "cell_type": "markdown",
   "metadata": {},
   "source": [
    "### a.\n",
    "$$\n",
    "\\begin{bmatrix}\n",
    "2 & -1 & 1 \\\\\n",
    "3 & 3 & 9 \\\\\n",
    "3 & 3 & 5\n",
    "\\end{bmatrix}\n",
    "$$\n"
   ]
  },
  {
   "cell_type": "code",
   "execution_count": 19,
   "metadata": {},
   "outputs": [
    {
     "name": "stdout",
     "output_type": "stream",
     "text": [
      "\n",
      " \n",
      "L:\n",
      " [[1.  0.  0. ]\n",
      " [1.5 1.  0. ]\n",
      " [1.5 1.  1. ]]\n",
      "\n",
      " \n",
      "U:\n",
      " [[ 2.  -1.   1. ]\n",
      " [ 0.   4.5  7.5]\n",
      " [ 0.   0.  -4. ]]\n"
     ]
    }
   ],
   "source": [
    "import numpy as np\n",
    "a_4 = np.array([[2,-1,1],[3,3,9],[3,3,5]])\n",
    "L,U = lu_decomposition(a_4)\n",
    "\n",
    "print(\"\\n \\nL:\\n\" , L)\n",
    "print(\"\\n \\nU:\\n\" , U)"
   ]
  },
  {
   "cell_type": "markdown",
   "metadata": {},
   "source": [
    "### b.\n",
    "$$\n",
    "\\begin{bmatrix}\n",
    "1.012 & -2.132 & 3.104 \\\\\n",
    "-2.132 & 4.096 & -7.013 \\\\\n",
    "3.104 & -7.013 & 0.014\n",
    "\\end{bmatrix}\n",
    "$$\n"
   ]
  },
  {
   "cell_type": "code",
   "execution_count": 20,
   "metadata": {},
   "outputs": [
    {
     "name": "stdout",
     "output_type": "stream",
     "text": [
      "\n",
      " \n",
      "L:\n",
      " [[ 1.          0.          0.        ]\n",
      " [-2.10671937  1.          0.        ]\n",
      " [ 3.06719368  1.19775553  1.        ]]\n",
      "\n",
      " \n",
      "U:\n",
      " [[ 1.012      -2.132       3.104     ]\n",
      " [ 0.         -0.39552569 -0.47374308]\n",
      " [ 0.          0.         -8.93914077]]\n"
     ]
    }
   ],
   "source": [
    "import numpy as np\n",
    "b_4 = np.array([[1.012,-2.132,3.104],[-2.132,4.096,-7.013],[3.104,-7.013,0.014]])\n",
    "L,U = lu_decomposition(b_4)\n",
    "\n",
    "print(\"\\n \\nL:\\n\" , L)\n",
    "print(\"\\n \\nU:\\n\" , U)"
   ]
  },
  {
   "cell_type": "markdown",
   "metadata": {},
   "source": [
    "### c.\n",
    "$$\n",
    "\\begin{bmatrix}\n",
    "2 & 0 & 0 & 0 \\\\\n",
    "1 & 1.5 & 0 & 0 \\\\\n",
    "0 & -3 & 0.5 & 0 \\\\\n",
    "2 & -2 & 1 & 1\n",
    "\\end{bmatrix}\n",
    "$$\n",
    "\n"
   ]
  },
  {
   "cell_type": "code",
   "execution_count": 21,
   "metadata": {},
   "outputs": [
    {
     "name": "stdout",
     "output_type": "stream",
     "text": [
      "\n",
      " \n",
      "L:\n",
      " [[ 1.          0.          0.          0.        ]\n",
      " [ 0.5         1.          0.          0.        ]\n",
      " [ 0.         -2.          1.          0.        ]\n",
      " [ 1.         -1.33333333  2.          1.        ]]\n",
      "\n",
      " \n",
      "U:\n",
      " [[2.  0.  0.  0. ]\n",
      " [0.  1.5 0.  0. ]\n",
      " [0.  0.  0.5 0. ]\n",
      " [0.  0.  0.  1. ]]\n"
     ]
    }
   ],
   "source": [
    "c_4 = np.array([[2, 0, 0, 0],\n",
    "    [1, 1.5, 0, 0],\n",
    "    [0, -3, 0.5, 0],\n",
    "    [2, -2, 1, 1]])\n",
    "\n",
    "L,U = lu_decomposition(c_4)\n",
    "\n",
    "print(\"\\n \\nL:\\n\" , L)\n",
    "print(\"\\n \\nU:\\n\" , U)"
   ]
  },
  {
   "cell_type": "markdown",
   "metadata": {},
   "source": [
    "### d.\n",
    "$$\n",
    "\\begin{bmatrix}\n",
    "2.1756 & 4.0231 & -2.1732 & 5.1967 \\\\\n",
    "-4.0231 & 6.0000 & 0 & 1.1973 \\\\\n",
    "-1.0000 & -5.2107 & 1.1111 & 0 \\\\\n",
    "6.0235 & 7.0000 & 0 & -4.1561\n",
    "\\end{bmatrix}\n",
    "$$\n"
   ]
  },
  {
   "cell_type": "code",
   "execution_count": 22,
   "metadata": {},
   "outputs": [
    {
     "name": "stdout",
     "output_type": "stream",
     "text": [
      "\n",
      " \n",
      "L:\n",
      " [[ 1.          0.          0.          0.        ]\n",
      " [-1.84919103  1.          0.          0.        ]\n",
      " [-0.45964332 -0.25012194  1.          0.        ]\n",
      " [ 2.76866152 -0.30794361 -5.35228302  1.        ]]\n",
      "\n",
      " \n",
      "U:\n",
      " [[ 2.1756      4.0231     -2.1732      5.1967    ]\n",
      " [ 0.         13.43948042 -4.01866194 10.80699101]\n",
      " [ 0.          0.         -0.89295239  5.09169403]\n",
      " [ 0.          0.          0.         12.03612803]]\n"
     ]
    }
   ],
   "source": [
    "d_4 = np.array([[2.1756, 4.0231, -2.1732, 5.1967],\n",
    "    [-4.0231, 6.0000, 0, 1.1973],\n",
    "    [-1.0000, -5.2107, 1.1111, 0],\n",
    "    [6.0235, 7.0000, 0, -4.1561]])\n",
    "\n",
    "L,U = lu_decomposition(d_4)\n",
    "\n",
    "print(\"\\n \\nL:\\n\" , L)\n",
    "print(\"\\n \\nU:\\n\" , U)"
   ]
  },
  {
   "cell_type": "markdown",
   "metadata": {},
   "source": [
    "## Séptimo Ejercicio"
   ]
  },
  {
   "cell_type": "markdown",
   "metadata": {},
   "source": [
    "7. **Modifique el algoritmo de eliminación gaussiana de tal forma que se pueda utilizar para resolver un sistema lineal usando la descomposición LU y, a continuación, resuelva los siguientes sistemas lineales.**"
   ]
  },
  {
   "cell_type": "code",
   "execution_count": 23,
   "metadata": {},
   "outputs": [],
   "source": [
    "def eliminacion_gaussiana_resolver(L: np.ndarray, U: np.ndarray, b: np.ndarray) -> np.ndarray:\n",
    "    \"\"\"Resuelve un sistema lineal dado L y U de una descomposición LU.\n",
    "\n",
    "    Parameters:\n",
    "        L (np.ndarray): Matriz triangular inferior de la descomposición LU.\n",
    "        U (np.ndarray): Matriz triangular superior de la descomposición LU.\n",
    "        b (np.ndarray): Vector de términos independientes.\n",
    "\n",
    "    Returns:\n",
    "        np.ndarray: Vector solución del sistema.\n",
    "    \"\"\"\n",
    "    n = L.shape[0]\n",
    "    y = np.zeros(n)\n",
    "\n",
    "    # Resolución de Ly = b (sustitución hacia adelante)\n",
    "    for i in range(n):\n",
    "        y[i] = b[i] - np.dot(L[i, :i], y[:i])\n",
    "\n",
    "    x = np.zeros(n)\n",
    "\n",
    "    # Resolución de Ux = y (sustitución hacia atrás)\n",
    "    for i in range(n - 1, -1, -1):\n",
    "        x[i] = (y[i] - np.dot(U[i, i + 1:], x[i + 1:])) / U[i, i]\n",
    "\n",
    "    return x"
   ]
  },
  {
   "cell_type": "markdown",
   "metadata": {},
   "source": [
    "## a.\n",
    "\n",
    "$$\n",
    "\\begin{aligned}\n",
    "2x_1 - x_2 + x_3 &= -1, \\\\\n",
    "3x_1 + 3x_2 + 9x_3 &= 0, \\\\\n",
    "3x_1 + 3x_2 + 5x_3 &= 4.\n",
    "\\end{aligned}\n",
    "$$\n",
    "\n"
   ]
  },
  {
   "cell_type": "code",
   "execution_count": 24,
   "metadata": {},
   "outputs": [
    {
     "name": "stdout",
     "output_type": "stream",
     "text": [
      "[02-05 21:34:47][INFO] \n",
      "[[ 3.  3.  9.]\n",
      " [ 0. -3. -5.]\n",
      " [ 0.  0. -4.]]\n",
      "[02-05 21:34:47][INFO] \n",
      "[[ 3.  3.  9.]\n",
      " [ 0. -3. -5.]\n",
      " [ 0.  0. -4.]]\n",
      "[02-05 21:34:47][INFO] \n",
      "[[ 3.  3.  9.]\n",
      " [ 0. -3. -5.]\n",
      " [ 0.  0. -4.]]\n",
      "\n",
      " \n",
      "L:\n",
      " [[ 1.          0.          0.        ]\n",
      " [ 0.66666667  1.          0.        ]\n",
      " [ 1.         -0.          1.        ]]\n",
      "\n",
      " \n",
      "U:\n",
      " [[ 3.  3.  9.]\n",
      " [ 0. -3. -5.]\n",
      " [ 0.  0. -4.]]\n",
      "\n",
      " \n",
      " Resolución:  [ 1.55555556  1.86111111 -1.25      ]\n"
     ]
    }
   ],
   "source": [
    "sis_a = np.array([[2,-1,1],[3,3,9],[3,3,5]])\n",
    "ind_a= np.array([-1,0,4])\n",
    "\n",
    "L,U = descomposicion_LU(sis_a)\n",
    "print(\"\\n \\nL:\\n\" , L)\n",
    "print(\"\\n \\nU:\\n\" , U)\n",
    "r = eliminacion_gaussiana_resolver(L,U,ind_a)\n",
    "print(\"\\n \\n Resolución: \", r )"
   ]
  },
  {
   "cell_type": "markdown",
   "metadata": {},
   "source": [
    "## b.\n",
    "\n",
    "$$\n",
    "\\begin{aligned}\n",
    "1.012x_1 - 2.132x_2 + 3.104x_3 &= 1.984, \\\\\n",
    "-2.132x_1 + 4.096x_2 - 7.013x_3 &= -5.049, \\\\\n",
    "3.104x_1 - 7.013x_2 + 0.014x_3 &= -3.895.\n",
    "\\end{aligned}\n",
    "$$\n",
    "\n"
   ]
  },
  {
   "cell_type": "code",
   "execution_count": 25,
   "metadata": {},
   "outputs": [
    {
     "name": "stdout",
     "output_type": "stream",
     "text": [
      "[02-05 21:34:47][INFO] \n",
      "[[ 3.104      -7.013       0.014     ]\n",
      " [ 0.         -0.72091881 -7.00338402]\n",
      " [ 0.          0.1544549   3.09943557]]\n",
      "[02-05 21:34:47][INFO] \n",
      "[[ 3.104      -7.013       0.014     ]\n",
      " [ 0.         -0.72091881 -7.00338402]\n",
      " [ 0.          0.          1.59897957]]\n",
      "[02-05 21:34:47][INFO] \n",
      "[[ 3.104      -7.013       0.014     ]\n",
      " [ 0.         -0.72091881 -7.00338402]\n",
      " [ 0.          0.          1.59897957]]\n",
      "\n",
      " \n",
      "L:\n",
      " [[ 1.          0.          0.        ]\n",
      " [-0.68685567  1.          0.        ]\n",
      " [ 0.32603093 -0.21424728  1.        ]]\n",
      "\n",
      " \n",
      "U:\n",
      " [[ 3.104      -7.013       0.014     ]\n",
      " [ 0.         -0.72091881 -7.00338402]\n",
      " [ 0.          0.          1.59897957]]\n",
      "\n",
      " \n",
      " Resolución:  [86.62721983 38.05210622 -3.39067526]\n"
     ]
    }
   ],
   "source": [
    "sis_b = np.array([[1.012,-2.132,3.104],[-2.132,4.096,-7.013],[3.104,-7.013,0.014]])\n",
    "ind_b= np.array([1.984,-5.049,-3.985])\n",
    "\n",
    "L,U = descomposicion_LU(sis_b)\n",
    "print(\"\\n \\nL:\\n\" , L)\n",
    "print(\"\\n \\nU:\\n\" , U)\n",
    "r = eliminacion_gaussiana_resolver(L,U,ind_b)\n",
    "print(\"\\n \\n Resolución: \", r )"
   ]
  },
  {
   "cell_type": "markdown",
   "metadata": {},
   "source": [
    "## c.\n",
    "\n",
    "$$\n",
    "\\begin{aligned}\n",
    "2x_1 &= 3, \\\\\n",
    "x_1 + 1.5x_2 &= 4.5, \\\\\n",
    "-3x_2 + 0.5x_3 &= -6.6, \\\\\n",
    "2x_1 - 2x_2 + x_3 + x_4 &= 0.8.\n",
    "\\end{aligned}\n",
    "$$\n"
   ]
  },
  {
   "cell_type": "code",
   "execution_count": 26,
   "metadata": {},
   "outputs": [
    {
     "name": "stdout",
     "output_type": "stream",
     "text": [
      "[02-05 21:34:47][INFO] \n",
      "[[ 2.   0.   0.   0. ]\n",
      " [ 0.   1.5  0.   0. ]\n",
      " [ 0.  -3.   0.5  0. ]\n",
      " [ 0.  -2.   1.   1. ]]\n",
      "[02-05 21:34:47][INFO] \n",
      "[[ 2.          0.          0.          0.        ]\n",
      " [ 0.         -3.          0.5         0.        ]\n",
      " [ 0.          0.          0.25        0.        ]\n",
      " [ 0.          0.          0.66666667  1.        ]]\n",
      "[02-05 21:34:47][INFO] \n",
      "[[ 2.          0.          0.          0.        ]\n",
      " [ 0.         -3.          0.5         0.        ]\n",
      " [ 0.          0.          0.66666667  1.        ]\n",
      " [ 0.          0.          0.         -0.375     ]]\n",
      "[02-05 21:34:47][INFO] \n",
      "[[ 2.          0.          0.          0.        ]\n",
      " [ 0.         -3.          0.5         0.        ]\n",
      " [ 0.          0.          0.66666667  1.        ]\n",
      " [ 0.          0.          0.         -0.375     ]]\n",
      "\n",
      " \n",
      "L:\n",
      " [[ 1.          0.          0.          0.        ]\n",
      " [ 0.          1.          0.          0.        ]\n",
      " [ 1.          0.66666667  1.          0.        ]\n",
      " [ 0.5        -0.5         0.375       1.        ]]\n",
      "\n",
      " \n",
      "U:\n",
      " [[ 2.          0.          0.          0.        ]\n",
      " [ 0.         -3.          0.5         0.        ]\n",
      " [ 0.          0.          0.66666667  1.        ]\n",
      " [ 0.          0.          0.         -0.375     ]]\n",
      "\n",
      " \n",
      " Resolución:  [  1.5         -0.46666667   6.2        -16.73333333]\n"
     ]
    }
   ],
   "source": [
    "sis_c = np.array([[2,0,0,0],[1,1.5,0,0],[0,-3,0.5,0],[2,-2,1,1]])\n",
    "ind_c= np.array([3,4.5,-6.6,0.8])\n",
    "\n",
    "L,U = descomposicion_LU(sis_c)\n",
    "print(\"\\n \\nL:\\n\" , L)\n",
    "print(\"\\n \\nU:\\n\" , U)\n",
    "r = eliminacion_gaussiana_resolver(L,U,ind_c)\n",
    "print(\"\\n \\n Resolución: \", r )"
   ]
  },
  {
   "cell_type": "markdown",
   "metadata": {},
   "source": [
    "## d.\n",
    "\n",
    "$$\n",
    "\\begin{aligned}\n",
    "2.1756x_1 + 4.0231x_2 - 2.1732x_3 + 5.1967x_4 &= 17.102, \\\\\n",
    "-4.0231x_1 + 6.0000x_2 + 1.1973x_4 &= -6.1593, \\\\\n",
    "-1.0000x_1 - 5.2107x_2 + 1.1111x_3 &= 3.0004, \\\\\n",
    "6.0235x_1 + 7.0000x_2 - 4.1561x_4 &= 0.0000.\n",
    "\\end{aligned}\n",
    "$$\n",
    "\n"
   ]
  },
  {
   "cell_type": "code",
   "execution_count": 27,
   "metadata": {},
   "outputs": [
    {
     "name": "stdout",
     "output_type": "stream",
     "text": [
      "[02-05 21:34:47][INFO] \n",
      "[[ 6.0235      7.          0.         -4.1561    ]\n",
      " [ 0.         10.67530506  0.         -1.57856219]\n",
      " [ 0.         -4.04858495  1.1111     -0.68998091]\n",
      " [ 0.          1.4948025  -2.1732      6.69782246]]\n",
      "[02-05 21:34:47][INFO] \n",
      "[[ 6.0235      7.          0.         -4.1561    ]\n",
      " [ 0.         10.67530506  0.         -1.57856219]\n",
      " [ 0.          0.          1.1111     -1.288647  ]\n",
      " [ 0.          0.         -2.1732      6.91885959]]\n",
      "[02-05 21:34:47][INFO] \n",
      "[[ 6.0235      7.          0.         -4.1561    ]\n",
      " [ 0.         10.67530506  0.         -1.57856219]\n",
      " [ 0.          0.         -2.1732      6.91885959]\n",
      " [ 0.          0.          0.          2.24878393]]\n",
      "[02-05 21:34:47][INFO] \n",
      "[[ 6.0235      7.          0.         -4.1561    ]\n",
      " [ 0.         10.67530506  0.         -1.57856219]\n",
      " [ 0.          0.         -2.1732      6.91885959]\n",
      " [ 0.          0.          0.          2.24878393]]\n",
      "\n",
      " \n",
      "L:\n",
      " [[ 1.          0.          0.          0.        ]\n",
      " [-0.66790072  1.          0.          0.        ]\n",
      " [ 0.36118536  0.14002434  1.          0.        ]\n",
      " [-0.16601644 -0.37924771 -0.5112737   1.        ]]\n",
      "\n",
      " \n",
      "U:\n",
      " [[ 6.0235      7.          0.         -4.1561    ]\n",
      " [ 0.         10.67530506  0.         -1.57856219]\n",
      " [ 0.          0.         -2.1732      6.91885959]\n",
      " [ 0.          0.          0.          2.24878393]]\n",
      "\n",
      " \n",
      " Resolución:  [2.91932402 0.67939446 5.8135584  1.26039062]\n"
     ]
    }
   ],
   "source": [
    "sis_d = np.array([[2.1756,4.0231,-2.1732,5.1967],[-4.0231,6.0000,0,1.1973],[-1.0000,-5.2107,1.1111,0],[6.0235,7.0000,0,-4.1561]])\n",
    "ind_d= np.array([17.102,-6.1593,3.0004,0.0000])\n",
    "\n",
    "L,U = descomposicion_LU(sis_d)\n",
    "print(\"\\n \\nL:\\n\" , L)\n",
    "print(\"\\n \\nU:\\n\" , U)\n",
    "r = eliminacion_gaussiana_resolver(L,U,ind_d)\n",
    "print(\"\\n \\n Resolución: \", r )"
   ]
  },
  {
   "cell_type": "markdown",
   "metadata": {},
   "source": [
    "**GitHub:** git@github.com: alda244\n",
    "\n",
    "\n",
    "\n",
    "[GitHub Métodos Númericos - Repositorio](https://github.com/alda244/MN_Deberes/blob/main/PereiraAlicia_Deber10.ipynb)"
   ]
  }
 ],
 "metadata": {
  "kernelspec": {
   "display_name": "base",
   "language": "python",
   "name": "python3"
  },
  "language_info": {
   "codemirror_mode": {
    "name": "ipython",
    "version": 3
   },
   "file_extension": ".py",
   "mimetype": "text/x-python",
   "name": "python",
   "nbconvert_exporter": "python",
   "pygments_lexer": "ipython3",
   "version": "3.12.4"
  }
 },
 "nbformat": 4,
 "nbformat_minor": 2
}
